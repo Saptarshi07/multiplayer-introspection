{
 "cells": [
  {
   "cell_type": "code",
   "execution_count": 4,
   "metadata": {},
   "outputs": [],
   "source": [
    "import math\n",
    "import random\n",
    "import numpy as np\n",
    "import seaborn as sns\n",
    "import matplotlib.pyplot as plt"
   ]
  },
  {
   "cell_type": "code",
   "execution_count": 5,
   "metadata": {},
   "outputs": [],
   "source": [
    "color_stg_d = {'C':'forestgreen','OC': 'yellowgreen', 'OD': 'indianred', 'D': 'maroon'}\n",
    "color_stg_r = {'NR':'burlywood','RS': 'cornflowerblue', 'RA': 'orange', 'AR': 'midnightblue'}"
   ]
  },
  {
   "cell_type": "code",
   "execution_count": 6,
   "metadata": {},
   "outputs": [],
   "source": [
    "def find_coplayer_rewarder_type(strategies, index):\n",
    "    \n",
    "    new_strategies = strategies.copy()\n",
    "    \n",
    "    new_strategies.pop(index)\n",
    "    \n",
    "    NR, SR, AR, UR = 0,0,0,0\n",
    "    \n",
    "    for i in range(0,len(new_strategies)):\n",
    "        \n",
    "        if new_strategies[i]%4 == 0:\n",
    "            \n",
    "            NR += 1\n",
    "            \n",
    "        elif new_strategies[i]%4 == 1:\n",
    "            \n",
    "            SR += 1\n",
    "            \n",
    "        elif new_strategies[i]%4 == 2:\n",
    "            \n",
    "            AR += 1\n",
    "            \n",
    "        else:\n",
    "            \n",
    "            UR += 1\n",
    "            \n",
    "    return NR,SR,AR,UR\n",
    "\n",
    "\n",
    "\n",
    "def payoff_multiplayer_reward(strategies,coop_costs,reward_costs,informations,productivities,beta,):\n",
    "    \n",
    "    #returns payoffs and cooperation probabilities\n",
    "    \n",
    "    N = len(coop_costs)\n",
    "    \n",
    "    payoffs = {k:0 for k in range(0,N)}\n",
    "    \n",
    "    contribution_prob = {k:0 for k in range(0,N)}\n",
    "    \n",
    "    for i in contribution_prob:\n",
    "        \n",
    "        if strategies[i]<=3 and strategies[i]>=0:\n",
    "            #C types\n",
    "                \n",
    "            contribution_prob[i] = 1\n",
    "            \n",
    "        elif strategies[i]<=15 and strategies[i]>=12:\n",
    "            #D types\n",
    "            \n",
    "            contribution_prob[i] = 0\n",
    "            \n",
    "        elif strategies[i]<=7 and strategies[i]>=4:\n",
    "            #OC types\n",
    "            m_SR, m_AR = find_coplayer_rewarder_type(strategies, i)[1:3]\n",
    "     \n",
    "            if beta*(m_SR - m_AR) >= coop_costs[i]*(1-productivities[i]/N):\n",
    "                contribution_prob[i] = 1\n",
    "            else:\n",
    "                contribution_prob[i] = 1-informations[i]\n",
    "                \n",
    "        else:\n",
    "            #OD types\n",
    "            \n",
    "            m_SR, m_AR = find_coplayer_rewarder_type(strategies, i)[1:3]\n",
    "     \n",
    "            if beta*(m_SR - m_AR) >= coop_costs[i]*(1-productivities[i]/N):    \n",
    "                contribution_prob[i] = informations[i] \n",
    "            else:\n",
    "                contribution_prob[i] = 0\n",
    "                \n",
    "                \n",
    "    total_contributions = sum([contribution_prob[i]*productivities[i]*coop_costs[i] for i in range(0,N)])\n",
    "    \n",
    "    for i in range(0,N):\n",
    "        \n",
    "        payoffs[i] += total_contributions/N - coop_costs[i]*contribution_prob[i]\n",
    "    \n",
    "    #paying costs of rewards\n",
    "    #print(payoffs) \n",
    "    for i in payoffs: \n",
    "        \n",
    "        if strategies[i]%4 == 3:\n",
    "            #UR pays rewards for everyone\n",
    "            \n",
    "            payoffs[i] -= (N-1)*reward_costs[i]\n",
    "            \n",
    "        elif strategies[i]%4 == 2:\n",
    "            #AR pays rewards for defection\n",
    "            \n",
    "            payoffs[i] -= sum([1-contribution_prob[j] for j in range(0,N) if j not in [i]])*reward_costs[i]\n",
    "            \n",
    "        elif strategies[i]%4 == 1:\n",
    "            #SR pays rewards for cooperation\n",
    "            \n",
    "            payoffs[i] -= sum([contribution_prob[j] for j in range(0,N) if j not in [i]])*reward_costs[i]\n",
    "            \n",
    "        \n",
    "    #getting back benefits of rewards:\n",
    "    #print(payoffs)\n",
    "    for i in payoffs: \n",
    "        \n",
    "        m_SR, m_AR, m_UR = find_coplayer_rewarder_type(strategies, i)[1:] \n",
    "        \n",
    "        payoffs[i] += m_UR*beta + m_SR*contribution_prob[i]*beta + m_AR*(1-contribution_prob[i])*beta\n",
    "        \n",
    "   \n",
    "    return payoffs, contribution_prob\n",
    "            \n",
    "                 "
   ]
  },
  {
   "cell_type": "code",
   "execution_count": 7,
   "metadata": {},
   "outputs": [
    {
     "data": {
      "text/plain": [
       "({0: 2.2, 1: 1.46, 2: 1.46, 3: 1.4}, {0: 1, 1: 1, 2: 1, 3: 0.4})"
      ]
     },
     "execution_count": 7,
     "metadata": {},
     "output_type": "execute_result"
    }
   ],
   "source": [
    "#payoff_multiplayer_reward(strategies,coop_costs,reward_costs,informations,productivities,beta,)\n",
    "payoff_multiplayer_reward([0,5,5,11],[1,1,1,1],[0.1,0.1,0.1,0.1],[0.4,0.4,0.4,0.4],[2,2,2,2],0.5)"
   ]
  },
  {
   "cell_type": "code",
   "execution_count": 8,
   "metadata": {},
   "outputs": [],
   "source": [
    "def get_introspection_probabilities(index,new_strategy_for_index,selection,strategies,coop_costs,reward_costs,informations,productivities,beta,):\n",
    "    \n",
    "    \n",
    "    vals = payoff_multiplayer_reward(strategies,coop_costs,reward_costs,informations,productivities,beta,)\n",
    "    \n",
    "    curr_payoff, curr_cooperation = vals[0][index], vals[1]\n",
    "    \n",
    "    new_strategy_set = strategies[:index] + [new_strategy_for_index] + strategies[index+1:] \n",
    "\n",
    "    new_payoff = payoff_multiplayer_reward(new_strategy_set,coop_costs,reward_costs,informations,productivities,beta,)[0][index]\n",
    "\n",
    "    prob_shifting = 1/(1+math.exp(-selection*(new_payoff - curr_payoff)))\n",
    "    \n",
    "    #print(new_payoff,curr_payoff)\n",
    "\n",
    "    #probs[curr_strategy] = 1-sum(probs)\n",
    "    \n",
    "    return prob_shifting,curr_cooperation\n",
    "            "
   ]
  },
  {
   "cell_type": "code",
   "execution_count": 9,
   "metadata": {},
   "outputs": [
    {
     "data": {
      "text/plain": [
       "(0.6607563687658171, {0: 1, 1: 1, 2: 1})"
      ]
     },
     "execution_count": 9,
     "metadata": {},
     "output_type": "execute_result"
    }
   ],
   "source": [
    "#args = selection,strategies,coop_costs,reward_costs,informations,productivities,beta\n",
    "\n",
    "args = (10, [0]*3, [1]*3, [0.05,0.1,0.15], [0.5]*3,[2]*3,0.5)\n",
    "\n",
    "get_introspection_probabilities(0,5,*args)"
   ]
  },
  {
   "cell_type": "markdown",
   "metadata": {},
   "source": [
    "#### run the introspection dynamics simualtion and capture the average number of time each player spends in each strategy"
   ]
  },
  {
   "cell_type": "code",
   "execution_count": 10,
   "metadata": {},
   "outputs": [],
   "source": [
    "def simulate_introspection(T,N,selection,coop_costs,reward_costs, information, productivities, beta):\n",
    "\n",
    "\n",
    "    init_stgs = list(np.random.randint(0,16,N))\n",
    "\n",
    "    stgs_visited = {k:[0]*16 for k in range(0,N)}\n",
    "\n",
    "    coop = {k:[] for k in range(0,N)}\n",
    "    \n",
    "    coops = [0]*N\n",
    "\n",
    "    stgs = init_stgs\n",
    "\n",
    "    for t in range(0,T):\n",
    "\n",
    "        player_picked = random.choice(list(range(0,N)))\n",
    "        curr_stg = stgs[player_picked]\n",
    "        stg_picked = random.choice(list(range(0,curr_stg)) + list(range(curr_stg+1,16)))\n",
    "\n",
    "        #args = selection,strategies,coop_costs,reward_costs,informations,productivities,beta\n",
    "        args = (selection, stgs, coop_costs, reward_costs, information,productivities,beta)\n",
    "        \n",
    "\n",
    "        vals = get_introspection_probabilities(player_picked,stg_picked,*args)\n",
    "\n",
    "        prob,curr_coop = vals[0], vals[1]\n",
    "\n",
    "        new_stg = np.random.choice([curr_stg,stg_picked],p=[1-prob,prob])\n",
    "        stgs[player_picked] = new_stg\n",
    "        \n",
    "        \n",
    "\n",
    "        for i in range(0,N):\n",
    "            stgs_visited[i][stgs[i]] += 1 \n",
    "            coop[i].append(curr_coop[i]) \n",
    "\n",
    "        #print(stgs)\n",
    "\n",
    "    for i in stgs_visited:\n",
    "        stgs_visited[i] = [j/T for j in stgs_visited[i]]\n",
    "    \n",
    "    for i in coop:\n",
    "        coops[i] = sum(coop[i])/T\n",
    "        \n",
    "    return stgs_visited,coops\n",
    "\n",
    "#print(stgs_visited)"
   ]
  },
  {
   "cell_type": "markdown",
   "metadata": {},
   "source": [
    "### how did I choose parameters here:"
   ]
  },
  {
   "cell_type": "markdown",
   "metadata": {},
   "source": [
    "#### this section describes how I choose the parameters for asymmetry:"
   ]
  },
  {
   "cell_type": "markdown",
   "metadata": {},
   "source": [
    "N = 3 (freedom here)\n",
    "\n",
    "c = 1 (freedom taken here)\n",
    "\n",
    "$r_L = 1.2, r_H = 2$ (freedom here too)\n",
    "\n",
    "$\\gamma_{H} = 0.5, \\gamma_L = 0.1$ are chosen to assure that $\\gamma_L$ makes rewarding worth for both $r_H, r_L$ players and $\\gamma_H$ is too high for either players to reward.\n",
    "\n",
    "$\\beta = 0.7$ assures that $r_L$ opportunists needs only one SR to cooperate\n",
    "\n",
    "$\\beta = 0.35$ assures that $r_L$ opportunists need both co-players to be SR to cooperate\n",
    "\n",
    "$\\lambda_L = 0.1$ is chosen such that $\\lambda_L < \\gamma_L N/c r_H$\n",
    "\n",
    "$\\lambda_H = 0.9$ is chosen such that $\\lambda_H > \\gamma_H N/c r_L$"
   ]
  },
  {
   "cell_type": "code",
   "execution_count": 280,
   "metadata": {},
   "outputs": [],
   "source": [
    "N,T = 3,10**5\n",
    "coop_costs = [1]*N\n",
    "selection = 10\n",
    "beta = 0.35\n",
    "\n",
    "reward_costs = [0.1,0.1,0.1]\n",
    "information = [0.9,0.9,0.9]\n",
    "productivity = [2,2,1.2]\n",
    "\n",
    "stgs_visited, coop = simulate_introspection(T,N,10,coop_costs,reward_costs,information,productivity,beta)\n",
    "\n"
   ]
  },
  {
   "cell_type": "code",
   "execution_count": 281,
   "metadata": {},
   "outputs": [
    {
     "data": {
      "image/png": "[encoded data removed]",
      "text/plain": [
       "<Figure size 576x144 with 6 Axes>"
      ]
     },
     "metadata": {
      "needs_background": "light"
     },
     "output_type": "display_data"
    }
   ],
   "source": [
    "fig,ax = plt.subplots(1,3,figsize = (8,2),sharey = True)\n",
    "sns.heatmap(np.array(stgs_visited[0]).reshape(4,4),ax = ax[0],cmap = 'autumn_r',vmax = 0.2, vmin = 0,annot = True)\n",
    "sns.heatmap(np.array(stgs_visited[1]).reshape(4,4),ax = ax[1],cmap = 'autumn_r',vmax = 0.2, vmin = 0,annot=True)\n",
    "sns.heatmap(np.array(stgs_visited[2]).reshape(4,4),ax = ax[2],cmap = 'autumn_r',vmax = 0.2, vmin = 0,annot = True)\n",
    "plt.tight_layout()"
   ]
  },
  {
   "cell_type": "markdown",
   "metadata": {},
   "source": [
    "#### bar plot of NR, SR and cooperation"
   ]
  },
  {
   "cell_type": "code",
   "execution_count": 282,
   "metadata": {},
   "outputs": [
    {
     "name": "stderr",
     "output_type": "stream",
     "text": [
      "<ipython-input-282-420f0bfd71d5>:25: UserWarning: FixedFormatter should only be used together with FixedLocator\n",
      "  ax[i].set_xticklabels(['','NR','SR','Coop'],fontsize = fontsize)\n"
     ]
    },
    {
     "data": {
      "image/png": "[encoded data removed]",
      "text/plain": [
       "<Figure size 576x144 with 3 Axes>"
      ]
     },
     "metadata": {
      "needs_background": "light"
     },
     "output_type": "display_data"
    }
   ],
   "source": [
    "fontsize = 12\n",
    "\n",
    "nr_list = [sum(np.array(stgs_visited[k]).reshape(4,4)[:,0]) for k in range(0,N)]\n",
    "sr_list = [sum(np.array(stgs_visited[k]).reshape(4,4)[:,1]) for k in range(0,N)]\n",
    "\n",
    "\n",
    "heights = []\n",
    "for i in range(0,N):\n",
    "    heights.append([nr_list[i],sr_list[i],coop[i]])\n",
    "    \n",
    "fig,ax = plt.subplots(1,3,figsize=(8,2),sharey = True)\n",
    "\n",
    "\n",
    "max_y = 1\n",
    "ax[0].set_ylim([0,max_y])\n",
    "xpos = [0,1,2]\n",
    "for i in range(0,N):\n",
    "    ax[i].bar(xpos, heights[i], color = [color_stg_r['NR'],color_stg_r['RS'],'black'], alpha = 0.8)\n",
    "    ax[i].bar(xpos, heights[i], color = [color_stg_r['NR'],color_stg_r['RS'],'black'], alpha = 0.8)\n",
    "    ax[i].bar(xpos, heights[i], color = [color_stg_r['NR'],color_stg_r['RS'],'black'], alpha = 0.8)\n",
    "    ax[i].spines['right'].set_visible(False)\n",
    "    ax[i].spines['top'].set_visible(False)\n",
    "    ax[i].set_yticks([0,0.5,1])\n",
    "    ax[i].set_yticklabels([0,0.5,1],fontsize = fontsize)\n",
    "    ax[i].set_xticklabels(['','NR','SR','Coop'],fontsize = fontsize)\n",
    "    ax[i].set_title('$\\gamma = %.2f$'%reward_costs[i] + '\\n' + '$\\lambda = %.2f$'%information[i] + '\\n' + 'r = %.1f'%productivity[i])"
   ]
  },
  {
   "cell_type": "markdown",
   "metadata": {},
   "source": [
    "## figure with all asymmetries"
   ]
  },
  {
   "cell_type": "code",
   "execution_count": 283,
   "metadata": {},
   "outputs": [],
   "source": [
    "N,T = 3,10**5\n",
    "coop_cost_list = [[1]*N,[1]*N,[0.5]*N]\n",
    "reward_cost_list = [[0.1,0.1,0.7],[0.1]*N,[0.1]*N]\n",
    "productivity_list = [[2]*N, [2,2,1.2], [2]*N]\n",
    "information_list = [[0.9]*N, [0.9]*N, [0.9,0.9,0.1]]\n",
    "\n",
    "selection = 10\n",
    "beta = 0.3\n",
    "\n",
    "stgs_visited_list = []\n",
    "coop_list = []\n",
    "\n",
    "for i in range(0,3):\n",
    "    \n",
    "    N,T = 3,10**5\n",
    "    \n",
    "    coop_costs = coop_cost_list[i]\n",
    "    reward_costs = reward_cost_list[i]\n",
    "    information = information_list[i]\n",
    "    productivity = productivity_list[i]\n",
    "    \n",
    "    stgs_visited, coop = simulate_introspection(T,N,10,coop_costs,reward_costs,information,productivity,beta)\n",
    "    \n",
    "    stgs_visited_list.append(stgs_visited)\n",
    "    coop_list.append(coop)"
   ]
  },
  {
   "cell_type": "code",
   "execution_count": 284,
   "metadata": {},
   "outputs": [
    {
     "data": {
      "text/plain": [
       "[[0.28405299999992223, 0.275483999999943, 0.6331870000001243],\n",
       " [0.6199390000001285, 0.6296560000001187, 0.13232700000006156],\n",
       " [0.6642550000001537, 0.6750410000001258, 0.47461499999999207]]"
      ]
     },
     "execution_count": 284,
     "metadata": {},
     "output_type": "execute_result"
    }
   ],
   "source": [
    "coop_list"
   ]
  },
  {
   "cell_type": "code",
   "execution_count": 286,
   "metadata": {},
   "outputs": [
    {
     "name": "stderr",
     "output_type": "stream",
     "text": [
      "<ipython-input-286-e717a1a5a8f3>:39: UserWarning: FixedFormatter should only be used together with FixedLocator\n",
      "  ax[2][0].set_xticklabels(['','NR','SR','Coop'],fontsize = fontsize)\n",
      "<ipython-input-286-e717a1a5a8f3>:40: UserWarning: FixedFormatter should only be used together with FixedLocator\n",
      "  ax[2][1].set_xticklabels(['','NR','SR','Coop'],fontsize = fontsize)\n"
     ]
    },
    {
     "data": {
      "image/png": "[encoded data removed]",
      "text/plain": [
       "<Figure size 432x576 with 6 Axes>"
      ]
     },
     "metadata": {
      "needs_background": "light"
     },
     "output_type": "display_data"
    }
   ],
   "source": [
    "fontsize = 14\n",
    "\n",
    "fig,ax = plt.subplots(3,2,figsize=(6,8),sharey = True, sharex = True)\n",
    "\n",
    "for i in range(0,3):\n",
    "    \n",
    "    nr_list = [sum(np.array(stgs_visited_list[i][k]).reshape(4,4)[:,0]) for k in range(0,N)]\n",
    "    sr_list = [sum(np.array(stgs_visited_list[i][k]).reshape(4,4)[:,1]) for k in range(0,N)]\n",
    "    coop = coop_list[i]\n",
    "    \n",
    "    heights = []\n",
    "    for j in range(0,N):\n",
    "        heights.append([nr_list[j],sr_list[j],coop[j]])\n",
    "        \n",
    "    #print(heights)\n",
    "    max_y = 1\n",
    "    axn[i][0].set_ylim([0,max_y])\n",
    "    xpos = [0,1,2]\n",
    "    for j in range(0,N-1):\n",
    "\n",
    "        ax[i][j].bar(xpos, heights[j+1], color = [color_stg_r['NR'],color_stg_r['RS'],'black'], alpha = 0.8)\n",
    "        ax[i][j].bar(xpos, heights[j+1], color = [color_stg_r['NR'],color_stg_r['RS'],'black'], alpha = 0.8)\n",
    "        ax[i][j].bar(xpos, heights[j+1], color = [color_stg_r['NR'],color_stg_r['RS'],'black'], alpha = 0.8)\n",
    "        ax[i][j].spines['right'].set_visible(False)\n",
    "        ax[i][j].spines['top'].set_visible(False)\n",
    "        ax[i][j].set_yticks([0,0.5,1])\n",
    "        ax[i][j].set_yticklabels([0,0.5,1],fontsize = fontsize)\n",
    "        \n",
    "ax[0][0].set_title('Player 1 and Player 2', fontsize = fontsize,pad = 20)\n",
    "ax[0][1].set_title('Player 3 (asymmetric)', fontsize = fontsize,pad = 20)\n",
    "ax[0][1].text(3.5,0.3,'Asymmetry \\nin \\ncost of rewarding', fontsize = fontsize)\n",
    "ax[1][1].text(3.5,0.3,'Asymmetry \\nin \\nproductivity', fontsize = fontsize)\n",
    "ax[2][1].text(3.5,0.3,'Asymmetry \\nin \\ninformation', fontsize = fontsize)\n",
    "\n",
    "ax[0][0].text(-3,1,'a.', fontsize = fontsize, weight = 'bold')\n",
    "ax[1][0].text(-3,1,'b.', fontsize = fontsize, weight = 'bold')\n",
    "ax[2][0].text(-3,1,'c.', fontsize = fontsize, weight = 'bold')\n",
    "\n",
    "ax[2][0].set_xticklabels(['','NR','SR','Coop'],fontsize = fontsize)\n",
    "ax[2][1].set_xticklabels(['','NR','SR','Coop'],fontsize = fontsize)\n",
    "\n",
    "fig.text(-0.03, 0.5, 'strategy abundances at the stationary state', va='center', rotation='vertical', fontsize = fontsize)\n",
    "\n",
    "\n",
    "plt.savefig('asymmetry_figure.pdf',bbox_inches='tight')\n",
    "plt.show()\n",
    "\n"
   ]
  },
  {
   "cell_type": "markdown",
   "metadata": {},
   "source": [
    "### all three unequal - one low, one high, one intermediate"
   ]
  },
  {
   "cell_type": "code",
   "execution_count": 32,
   "metadata": {},
   "outputs": [],
   "source": [
    "N,T = 3,10**5\n",
    "coop_costs = [1]*N\n",
    "selection = 10\n",
    "beta = 0.5\n",
    "\n",
    "\n",
    "delta_gamma, delta_lmd, delta_r = 0.5,0,0\n",
    "\n",
    "reward_costs = [0.1*(1-delta_gamma),0.1,0.1*(1+delta_gamma)]\n",
    "information = [0.5*(1-delta_lmd),0.5,0.5*(1+delta_lmd)]\n",
    "productivity = [2*(1-delta_r),2,2*(1+delta_r)]\n",
    "\n",
    "stgs_visited, coop = simulate_introspection(T,N,10,coop_costs,reward_costs,information,productivity, 0.6)\n",
    "\n"
   ]
  },
  {
   "cell_type": "code",
   "execution_count": 33,
   "metadata": {},
   "outputs": [
    {
     "data": {
      "image/png": "[encoded data removed]",
      "text/plain": [
       "<Figure size 576x144 with 3 Axes>"
      ]
     },
     "metadata": {
      "needs_background": "light"
     },
     "output_type": "display_data"
    }
   ],
   "source": [
    "fontsize = 12\n",
    "\n",
    "nr_list = [sum(np.array(stgs_visited[k]).reshape(4,4)[:,0]) for k in range(0,N)]\n",
    "sr_list = [sum(np.array(stgs_visited[k]).reshape(4,4)[:,1]) for k in range(0,N)]\n",
    "\n",
    "\n",
    "heights = []\n",
    "for i in range(0,N):\n",
    "    heights.append([nr_list[i],sr_list[i],coop[i]])\n",
    "    \n",
    "fig,ax = plt.subplots(1,3,figsize=(8,2),sharey = True)\n",
    "\n",
    "\n",
    "max_y = 1\n",
    "ax[0].set_ylim([0,max_y])\n",
    "\n",
    "\n",
    "for i in range(0,N):\n",
    "    ax[i].bar(xpos, heights[i], color = [color_stg_r['NR'],color_stg_r['RS'],'black'], alpha = 0.8)\n",
    "    ax[i].bar(xpos, heights[i], color = [color_stg_r['NR'],color_stg_r['RS'],'black'], alpha = 0.8)\n",
    "    ax[i].bar(xpos, heights[i], color = [color_stg_r['NR'],color_stg_r['RS'],'black'], alpha = 0.8)\n",
    "    ax[i].spines['right'].set_visible(False)\n",
    "    ax[i].spines['top'].set_visible(False)\n",
    "    ax[i].set_yticks([0,0.5,1])\n",
    "    ax[i].set_yticklabels([0,0.5,1],fontsize = fontsize)\n",
    "    ax[i].set_xticklabels(['','NR','SR','Coop'],fontsize = fontsize)\n",
    "    ax[i].set_title('$\\gamma = %.2f$'%reward_costs[i] + '\\n' + '$\\lambda = %.2f$'%information[i] + '\\n' + 'r = %.1f'%productivity[i])"
   ]
  },
  {
   "cell_type": "code",
   "execution_count": 109,
   "metadata": {},
   "outputs": [
    {
     "data": {
      "text/plain": [
       "6.0"
      ]
     },
     "execution_count": 109,
     "metadata": {},
     "output_type": "execute_result"
    }
   ],
   "source": [
    "import scipy.special\n",
    "\n",
    "scipy.special.binom(4, 2)"
   ]
  },
  {
   "cell_type": "markdown",
   "metadata": {},
   "source": [
    "## fun for TAC"
   ]
  },
  {
   "cell_type": "code",
   "execution_count": 330,
   "metadata": {},
   "outputs": [
    {
     "name": "stderr",
     "output_type": "stream",
     "text": [
      "The PostScript backend does not support transparency; partially transparent artists will be rendered opaque.\n"
     ]
    },
    {
     "data": {
      "image/png": "[encoded data removed]",
      "text/plain": [
       "<Figure size 640x480 with 1 Axes>"
      ]
     },
     "metadata": {},
     "output_type": "display_data"
    }
   ],
   "source": [
    "import matplotlib.pyplot as plt\n",
    "import numpy as np\n",
    "\n",
    "# Fixing random state for reproducibility\n",
    "fontsize = 12\n",
    "\n",
    "plt.rcdefaults()\n",
    "\n",
    "\n",
    "fig,ax = plt.subplots()\n",
    "\n",
    "# Example data\n",
    "people = ('Social Rewarding', 'Plausible Deniability', 'Generalized Reciprocity', 'Introspection dynamics')\n",
    "y_pos = np.arange(len(people))\n",
    "performance = [10,3.4,3.6,5]\n",
    "error = np.random.rand(len(people))\n",
    "\n",
    "ax.barh(y_pos, performance, align='center',alpha = 0.5, color = 'green',edgecolor = 'k',linewidth = 2)\n",
    "ax.set_yticks(y_pos, labels=people)\n",
    "ax.invert_yaxis()  # labels read top-to-bottom\n",
    "ax.set_yticklabels(people,fontsize = fontsize)\n",
    "ax.set_xticks([4,6,8,10])\n",
    "ax.set_xticklabels(['First draft', 'Submitted','Accepted','Published'],fontsize = fontsize)\n",
    "ax.set_title('Progress (January 2023)')\n",
    "ax.spines[['right', 'top']].set_visible(False)\n",
    "plt.savefig('January_progress.eps',bbox_inches = 'tight')\n",
    "plt.show()"
   ]
  },
  {
   "cell_type": "code",
   "execution_count": null,
   "metadata": {},
   "outputs": [],
   "source": []
  }
 ],
 "metadata": {
  "kernelspec": {
   "display_name": "Python 3",
   "language": "python",
   "name": "python3"
  },
  "language_info": {
   "codemirror_mode": {
    "name": "ipython",
    "version": 3
   },
   "file_extension": ".py",
   "mimetype": "text/x-python",
   "name": "python",
   "nbconvert_exporter": "python",
   "pygments_lexer": "ipython3",
   "version": "3.8.3"
  }
 },
 "nbformat": 4,
 "nbformat_minor": 4
}
